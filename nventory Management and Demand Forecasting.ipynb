{
 "cells": [
  {
   "cell_type": "code",
   "execution_count": 5,
   "id": "61ead3c3",
   "metadata": {},
   "outputs": [],
   "source": [
    "# Import the required libraries\n",
    "import pandas as pd\n",
    "\n",
    "# Load the dataset\n",
    "data = pd.read_csv(r'C:\\Users\\DELL\\Desktop\\Inventory Management and Demand Forecasting\\data.csv')\n",
    "\n"
   ]
  },
  {
   "cell_type": "markdown",
   "id": "6a66db40",
   "metadata": {},
   "source": [
    "# Data exploration: Using Descriptive Statistics"
   ]
  },
  {
   "cell_type": "code",
   "execution_count": 10,
   "id": "2fb96771",
   "metadata": {},
   "outputs": [
    {
     "name": "stdout",
     "output_type": "stream",
     "text": [
      "47.0\n"
     ]
    }
   ],
   "source": [
    "# The dataset consists of historical sales data for 50 items across 10 different stores. \n",
    "# The main columns in the data are: date, store, item, and sales.\n",
    "\n",
    "# Compute basic descriptive statistics for the dataset\n",
    "# desc_stats = data.describe()\n",
    "\n",
    "# Or we can costumize the element we want individualy\n",
    "\n",
    "# Mean\n",
    "mean = data['sales'].mean()\n",
    "\n",
    "# Median\n",
    "median = data['sales'].median()\n",
    "\n",
    "# Mode\n",
    "mode = data['sales'].mode()\n",
    "\n",
    "# Standard deviation\n",
    "std_dev = data['sales'].std()\n",
    "\n",
    "# Variance\n",
    "variance = data['sales'].var()\n",
    "\n",
    "# Minimum value\n",
    "min_val = data['sales'].min()\n",
    "\n",
    "# Maximum value\n",
    "max_val = data['sales'].max()\n",
    "\n",
    "# Range\n",
    "range_val = max_val - min_val\n",
    "\n",
    "# Quartiles\n",
    "quartiles = data['sales'].quantile([0.25, 0.5, 0.75])\n",
    "\n",
    "# Interquartile range (IQR)\n",
    "iqr = quartiles[0.75] - quartiles[0.25]\n",
    "\n",
    "# Skewness\n",
    "skewness = data['sales'].skew()\n",
    "\n",
    "# Kurtosis\n",
    "kurtosis = data['sales'].kurt()\n",
    "\n",
    "# Count\n",
    "count = data['sales'].count()\n",
    "\n",
    "# Sum\n",
    "sum_val = data['sales'].sum()\n",
    "\n",
    "# Replace 'median' with the element you want to see\n",
    "print(median)\n"
   ]
  }
 ],
 "metadata": {
  "kernelspec": {
   "display_name": "Python 3 (ipykernel)",
   "language": "python",
   "name": "python3"
  },
  "language_info": {
   "codemirror_mode": {
    "name": "ipython",
    "version": 3
   },
   "file_extension": ".py",
   "mimetype": "text/x-python",
   "name": "python",
   "nbconvert_exporter": "python",
   "pygments_lexer": "ipython3",
   "version": "3.9.13"
  }
 },
 "nbformat": 4,
 "nbformat_minor": 5
}
